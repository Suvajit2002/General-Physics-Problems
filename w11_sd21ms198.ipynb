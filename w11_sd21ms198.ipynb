{
 "cells": [
  {
   "cell_type": "code",
   "execution_count": 2,
   "id": "8dbcdc0b",
   "metadata": {},
   "outputs": [],
   "source": [
    "import numpy as np\n",
    "import math as m\n",
    "from tabulate import tabulate\n",
    "import matplotlib.pyplot as plt\n",
    "from scipy.optimize import curve_fit"
   ]
  },
  {
   "cell_type": "markdown",
   "id": "3a46ff5a",
   "metadata": {},
   "source": [
    "# Question 1 \n",
    "\n",
    "Part A"
   ]
  },
  {
   "cell_type": "code",
   "execution_count": 17,
   "id": "c7b6c794",
   "metadata": {},
   "outputs": [
    {
     "data": {
      "text/plain": [
       "Text(0, 0.5, ' w(x) ')"
      ]
     },
     "execution_count": 17,
     "metadata": {},
     "output_type": "execute_result"
    },
    {
     "data": {
      "image/png": "[encoded data removed]",
      "text/plain": [
       "<Figure size 432x288 with 1 Axes>"
      ]
     },
     "metadata": {
      "needs_background": "light"
     },
     "output_type": "display_data"
    }
   ],
   "source": [
    "def target_dist(x):\n",
    "    return 1/(1+(x-1)**2)\n",
    "\n",
    "\n",
    "xs = np.linspace(-10,10.,num=200)\n",
    "ys = [target_dist(x) for x in xs]\n",
    "\n",
    "\n",
    "ys = ys/np.max(ys)\n",
    "plt.plot(xs, ys);\n",
    "plt.grid()\n",
    "\n",
    "plt.xlabel('x')\n",
    "plt.ylabel(\" w(x) \")"
   ]
  },
  {
   "cell_type": "markdown",
   "id": "3b11c4c4",
   "metadata": {},
   "source": [
    "Part B"
   ]
  },
  {
   "cell_type": "code",
   "execution_count": 14,
   "id": "d96f2cf3",
   "metadata": {},
   "outputs": [],
   "source": [
    "x = 0.5\n",
    "x0 = x\n",
    "N = 1000000\n",
    "sequence = np.zeros(N)\n",
    "for i in range(N):\n",
    "    xt = x + 2.0*(np.random.rand()-0.5)\n",
    "    a = min([1.0, target_dist(xt)/target_dist(x)])\n",
    "    if np.random.rand() < a:\n",
    "        x = xt\n",
    "    sequence[i] = x\n"
   ]
  },
  {
   "cell_type": "markdown",
   "id": "78315444",
   "metadata": {},
   "source": [
    "Part C"
   ]
  },
  {
   "cell_type": "code",
   "execution_count": 15,
   "id": "0f895ab3",
   "metadata": {},
   "outputs": [],
   "source": [
    "freq, edges = np.histogram(sequence,bins=500);\n",
    "freq = freq/np.max(freq);\n",
    "strip = edges[1]-edges[0];\n",
    "        "
   ]
  },
  {
   "cell_type": "markdown",
   "id": "c83c9eac",
   "metadata": {},
   "source": [
    "Part D"
   ]
  },
  {
   "cell_type": "code",
   "execution_count": 22,
   "id": "b6597777",
   "metadata": {},
   "outputs": [
    {
     "data": {
      "text/plain": [
       "Text(0, 0.5, ' w(x) ')"
      ]
     },
     "execution_count": 22,
     "metadata": {},
     "output_type": "execute_result"
    },
    {
     "data": {
      "image/png": "[encoded data removed]",
      "text/plain": [
       "<Figure size 432x288 with 1 Axes>"
      ]
     },
     "metadata": {
      "needs_background": "light"
     },
     "output_type": "display_data"
    }
   ],
   "source": [
    "plt.xlim(-20,20)\n",
    "plt.scatter(edges[0:-1]+strip/2, freq,s =15)\n",
    "plt.plot(xs, ys,color='black')\n",
    "plt.grid()\n",
    "\n",
    "plt.title(f\"Normalized Distribution, with $x_0 = {x0}$ \")\n",
    "plt.xlabel('x')\n",
    "plt.ylabel(\" w(x) \")"
   ]
  },
  {
   "cell_type": "markdown",
   "id": "162f5de4",
   "metadata": {},
   "source": [
    "# Question 2"
   ]
  },
  {
   "cell_type": "code",
   "execution_count": 97,
   "id": "2637cda0",
   "metadata": {},
   "outputs": [
    {
     "name": "stdout",
     "output_type": "stream",
     "text": [
      "N \t Integration Value \t Error \n",
      "\n",
      "10 \t 0.17690666629370652 \t 0.047898433706293486\n",
      "20 \t 0.2955394302062079 \t 0.07073433020620787\n",
      "50 \t 0.19829352268947414 \t 0.026511577310525863\n",
      "100 \t 0.19846654617577442 \t 0.02633855382422559\n",
      "200 \t 0.22809677939520626 \t 0.0032916793952062484\n",
      "500 \t 0.2218871739648265 \t 0.002917926035173518\n",
      "1000 \t 0.23029634361731496 \t 0.005491243617314956\n",
      "2000 \t 0.22286453791067745 \t 0.0019405620893225561\n",
      "50000 \t 0.2238851724941685 \t 0.0009199275058315026\n",
      "100000 \t 0.22480856043727407 \t 3.460437274060979e-06\n",
      "\n",
      "\n",
      "Integration Value= 0.22480856043727407\n"
     ]
    }
   ],
   "source": [
    "def f(x):\n",
    "    return (x**3)/(np.exp(x)-1)\n",
    "\n",
    "b =0.8605\n",
    "x0=0\n",
    "\n",
    "\n",
    "def w(x): # Trial Wavefunction\n",
    "    return 1/((b**2)+((x-x0)**2)) # i consider b^2 instead of b which eases the integration\n",
    "def x(y):\n",
    "    return b*np.tan(b*y)\n",
    "\n",
    "\n",
    "exact_value= 0.2248051\n",
    "\n",
    "\n",
    "Ns = [10, 20, 50, 100, 200, 500, 1000, 2000, 50000,100000]\n",
    "print('N',\"\\t\", 'Integration Value',\"\\t\",'Error',\"\\n\")\n",
    "for N in Ns:\n",
    "    store = 0.0\n",
    "    for i in range(N):\n",
    "        yi = np.random.rand()\n",
    "        xi = x(yi)\n",
    "        store += f(xi)/w(xi)\n",
    "    res = store/N\n",
    "    print(N, \"\\t\", res, \"\\t\", abs(res-exact_value))\n",
    "print(\"\\n\")\n",
    "print(f'Integration Value= {res}')    \n",
    "    "
   ]
  },
  {
   "cell_type": "code",
   "execution_count": null,
   "id": "ed334278",
   "metadata": {},
   "outputs": [],
   "source": []
  },
  {
   "cell_type": "code",
   "execution_count": null,
   "id": "df2b8e3e",
   "metadata": {},
   "outputs": [],
   "source": []
  },
  {
   "cell_type": "code",
   "execution_count": null,
   "id": "b7c97da9",
   "metadata": {},
   "outputs": [],
   "source": []
  }
 ],
 "metadata": {
  "kernelspec": {
   "display_name": "Python 3 (ipykernel)",
   "language": "python",
   "name": "python3"
  },
  "language_info": {
   "codemirror_mode": {
    "name": "ipython",
    "version": 3
   },
   "file_extension": ".py",
   "mimetype": "text/x-python",
   "name": "python",
   "nbconvert_exporter": "python",
   "pygments_lexer": "ipython3",
   "version": "3.10.12"
  }
 },
 "nbformat": 4,
 "nbformat_minor": 5
}
